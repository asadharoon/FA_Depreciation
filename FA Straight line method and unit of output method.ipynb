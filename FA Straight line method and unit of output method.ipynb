{
 "cells": [
  {
   "cell_type": "markdown",
   "metadata": {},
   "source": [
    "# Asad Haroon"
   ]
  },
  {
   "cell_type": "markdown",
   "metadata": {},
   "source": [
    "# Straight Line Method"
   ]
  },
  {
   "cell_type": "code",
   "execution_count": 36,
   "metadata": {},
   "outputs": [
    {
     "data": {
      "text/html": [
       "<table border=\"1\" class=\"dataframe\">\n",
       "  <thead>\n",
       "    <tr style=\"text-align: right;\">\n",
       "      <th>Year</th>\n",
       "      <th>Computation</th>\n",
       "      <th>Depreciation Expense</th>\n",
       "      <th>Acc. Dec Expense</th>\n",
       "      <th>Book value</th>\n",
       "    </tr>\n",
       "  </thead>\n",
       "  <tbody>\n",
       "    <tr>\n",
       "      <td></td>\n",
       "      <td></td>\n",
       "      <td></td>\n",
       "      <td></td>\n",
       "      <td>17000</td>\n",
       "    </tr>\n",
       "    <tr>\n",
       "      <td>1</td>\n",
       "      <td>15000*1/5</td>\n",
       "      <td>3000.0</td>\n",
       "      <td>3000.0</td>\n",
       "      <td>14000.0</td>\n",
       "    </tr>\n",
       "    <tr>\n",
       "      <td>2</td>\n",
       "      <td>15000*1/5</td>\n",
       "      <td>3000.0</td>\n",
       "      <td>6000.0</td>\n",
       "      <td>11000.0</td>\n",
       "    </tr>\n",
       "    <tr>\n",
       "      <td>3</td>\n",
       "      <td>15000*1/5</td>\n",
       "      <td>3000.0</td>\n",
       "      <td>9000.0</td>\n",
       "      <td>8000.0</td>\n",
       "    </tr>\n",
       "    <tr>\n",
       "      <td>4</td>\n",
       "      <td>15000*1/5</td>\n",
       "      <td>3000.0</td>\n",
       "      <td>12000.0</td>\n",
       "      <td>5000.0</td>\n",
       "    </tr>\n",
       "    <tr>\n",
       "      <td>5</td>\n",
       "      <td>15000*1/5</td>\n",
       "      <td>3000.0</td>\n",
       "      <td>15000.0</td>\n",
       "      <td>2000.0</td>\n",
       "    </tr>\n",
       "  </tbody>\n",
       "</table>"
      ],
      "text/plain": [
       "<IPython.core.display.HTML object>"
      ]
     },
     "execution_count": 36,
     "metadata": {},
     "output_type": "execute_result"
    }
   ],
   "source": [
    "book_value=17000\n",
    "years=5\n",
    "salv=2000\n",
    "depc=(book_value-salv)/years\n",
    "import pandas as pd\n",
    "df=pd.DataFrame(columns=[\"Year\",\"Computation\",\"Depreciation Expense\",\"Acc. Dec Expense\",\"Book value\"])\n",
    "new_row = {\"Year\":\"\",\"Computation\":\"\",\"Depreciation Expense\":\"\",\"Acc. Dec Expense\":\"\",\"Book value\":book_value}\n",
    "df=df.append(new_row,ignore_index=True)\n",
    "lists=[]\n",
    "acc=depc\n",
    "new_book=book_value\n",
    "for i in range(1,years+1):\n",
    "    new_row2={\"Year\":i,\"Computation\":str(book_value-salv)+\"*\"+\"1/\"+str(years),\"Depreciation Expense\":depc,\"Acc. Dec Expense\":acc,\"Book value\":new_book-depc}\n",
    "    df=df.append(new_row2,ignore_index=True)\n",
    "    acc=acc+depc\n",
    "    new_book=new_book-depc\n",
    "from IPython.display import HTML\n",
    "HTML(df.to_html(index=False))"
   ]
  },
  {
   "cell_type": "markdown",
   "metadata": {},
   "source": [
    "# Unit of Output method"
   ]
  },
  {
   "cell_type": "code",
   "execution_count": 37,
   "metadata": {},
   "outputs": [
    {
     "data": {
      "text/html": [
       "<table border=\"1\" class=\"dataframe\">\n",
       "  <thead>\n",
       "    <tr style=\"text-align: right;\">\n",
       "      <th>Year</th>\n",
       "      <th>Computation</th>\n",
       "      <th>Depreciation Expense</th>\n",
       "      <th>Acc. Dec Expense</th>\n",
       "      <th>Book value</th>\n",
       "    </tr>\n",
       "  </thead>\n",
       "  <tbody>\n",
       "    <tr>\n",
       "      <td></td>\n",
       "      <td></td>\n",
       "      <td></td>\n",
       "      <td></td>\n",
       "      <td>17000</td>\n",
       "    </tr>\n",
       "    <tr>\n",
       "      <td>1</td>\n",
       "      <td>20000*0.15</td>\n",
       "      <td>3000.0</td>\n",
       "      <td>3000.0</td>\n",
       "      <td>14000.0</td>\n",
       "    </tr>\n",
       "    <tr>\n",
       "      <td>2</td>\n",
       "      <td>30000*0.15</td>\n",
       "      <td>4500.0</td>\n",
       "      <td>7500.0</td>\n",
       "      <td>9500.0</td>\n",
       "    </tr>\n",
       "    <tr>\n",
       "      <td>3</td>\n",
       "      <td>10000*0.15</td>\n",
       "      <td>1500.0</td>\n",
       "      <td>9000.0</td>\n",
       "      <td>8000.0</td>\n",
       "    </tr>\n",
       "    <tr>\n",
       "      <td>4</td>\n",
       "      <td>15000*0.15</td>\n",
       "      <td>2250.0</td>\n",
       "      <td>11250.0</td>\n",
       "      <td>5750.0</td>\n",
       "    </tr>\n",
       "    <tr>\n",
       "      <td>5</td>\n",
       "      <td>25000*0.15</td>\n",
       "      <td>3750.0</td>\n",
       "      <td>15000.0</td>\n",
       "      <td>2000.0</td>\n",
       "    </tr>\n",
       "  </tbody>\n",
       "</table>"
      ],
      "text/plain": [
       "<IPython.core.display.HTML object>"
      ]
     },
     "execution_count": 37,
     "metadata": {},
     "output_type": "execute_result"
    }
   ],
   "source": [
    "book_value=17000\n",
    "cost=17000\n",
    "salv=2000\n",
    "output=100000\n",
    "costpu=(cost-salv)/output\n",
    "arr=[20000,30000,10000,15000,25000]\n",
    "#depc=(book_value-salv)/years\n",
    "import pandas as pd\n",
    "df=pd.DataFrame(columns=[\"Year\",\"Computation\",\"Depreciation Expense\",\"Acc. Dec Expense\",\"Book value\"])\n",
    "new_row = {\"Year\":\"\",\"Computation\":\"\",\"Depreciation Expense\":\"\",\"Acc. Dec Expense\":\"\",\"Book value\":book_value}\n",
    "df=df.append(new_row,ignore_index=True)\n",
    "acc=0\n",
    "accumulated=0\n",
    "new_book=book_value\n",
    "for i in range(1,years+1):\n",
    "    acc=arr[i-1]*costpu\n",
    "    if i==1:\n",
    "        accumulated=acc\n",
    "    else: accumulated+=acc\n",
    "    new_row2={\"Year\":i,\"Computation\":\"\"+str(arr[i-1])+\"*\"+str(costpu),\"Depreciation Expense\":acc,\"Acc. Dec Expense\":accumulated,\"Book value\":new_book-acc}\n",
    "    df=df.append(new_row2,ignore_index=True)\n",
    "    #accumulated=accumulated+acc\n",
    "    new_book=new_book-acc\n",
    "from IPython.display import HTML\n",
    "HTML(df.to_html(index=False))"
   ]
  }
 ],
 "metadata": {
  "kernelspec": {
   "display_name": "Python 3",
   "language": "python",
   "name": "python3"
  },
  "language_info": {
   "codemirror_mode": {
    "name": "ipython",
    "version": 3
   },
   "file_extension": ".py",
   "mimetype": "text/x-python",
   "name": "python",
   "nbconvert_exporter": "python",
   "pygments_lexer": "ipython3",
   "version": "3.8.1"
  }
 },
 "nbformat": 4,
 "nbformat_minor": 4
}
